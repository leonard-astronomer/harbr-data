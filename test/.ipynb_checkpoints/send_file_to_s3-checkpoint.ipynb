{
 "cells": [
  {
   "cell_type": "code",
   "execution_count": 1,
   "id": "80b0f028",
   "metadata": {},
   "outputs": [],
   "source": [
    "import boto3\n",
    "import urllib\n",
    "import datetime\n",
    "from time import sleep"
   ]
  },
  {
   "cell_type": "code",
   "execution_count": 2,
   "id": "ba143751",
   "metadata": {},
   "outputs": [
    {
     "data": {
      "text/plain": [
       "datetime.datetime(2021, 12, 2, 10, 54, 2, 191495)"
      ]
     },
     "execution_count": 2,
     "metadata": {},
     "output_type": "execute_result"
    }
   ],
   "source": [
    "datetime.datetime.now()"
   ]
  },
  {
   "cell_type": "code",
   "execution_count": 3,
   "id": "50eb8598",
   "metadata": {},
   "outputs": [
    {
     "data": {
      "text/plain": [
       "datetime.datetime(2021, 12, 2, 10, 54, 5, 974439)"
      ]
     },
     "execution_count": 3,
     "metadata": {},
     "output_type": "execute_result"
    }
   ],
   "source": [
    "datetime.datetime.now()"
   ]
  },
  {
   "cell_type": "code",
   "execution_count": null,
   "id": "b6a01616",
   "metadata": {},
   "outputs": [],
   "source": []
  },
  {
   "cell_type": "code",
   "execution_count": 4,
   "id": "e10dc576",
   "metadata": {},
   "outputs": [
    {
     "name": "stdout",
     "output_type": "stream",
     "text": [
      "21\n",
      "2021-12-02 10:54:09.398035\n",
      "2021-12-02 10:54:12.403361\n",
      "Error\n"
     ]
    }
   ],
   "source": [
    "import datetime as time\n",
    "\n",
    "class tracking:\n",
    "    def __init__(self):\n",
    "        self.the_byte_count = 0\n",
    "        self.start_time = 0\n",
    "        self.end_time = 0\n",
    "        self.upload_duration = 'Not set'\n",
    "        self.success=False\n",
    "        self.error_message=\"Not set\"\n",
    "        \n",
    "    def record_bytes(self,byte_count):\n",
    "        self.the_byte_count = byte_count\n",
    "        \n",
    "    def record_start_time(self):\n",
    "        self.start_time = datetime.datetime.now()\n",
    "        \n",
    "    def record_end_time(self):\n",
    "        self.end_time = datetime.datetime.now()\n",
    "        self.upload_duration = self.end_time - self.start_time \n",
    "        \n",
    "    def upload_failed(self, message=\"\"):\n",
    "        if(message!=\"\"):\n",
    "            self.error_message=message\n",
    "        self.success=False\n",
    "    def upload_succeeded(self):\n",
    "        self.success=True\n",
    "    def set_error_message(self, msg):\n",
    "        self.error_message=msg\n",
    "\n",
    "a1 = tracking()\n",
    "\n",
    "a1.record_start_time()\n",
    "\n",
    "a1.record_bytes(21)\n",
    "\n",
    "sleep(3)\n",
    "a1.record_end_time()\n",
    "\n",
    "a1.set_error_message(\"Error\")\n",
    "\n",
    "print(a1.the_byte_count)\n",
    "print(a1.start_time)\n",
    "print(a1.end_time)\n",
    "print(a1.error_message)\n",
    "\n",
    "    \n",
    "\n"
   ]
  },
  {
   "cell_type": "code",
   "execution_count": 6,
   "id": "9e12f2b3",
   "metadata": {},
   "outputs": [],
   "source": [
    "import boto3\n",
    "\n",
    "def send_file_to_s3(the_file, bucket, key, track):\n",
    "      \n",
    "    try:\n",
    "        session = boto3.Session(profile_name='default')\n",
    "        s3 = session.resource('s3')\n",
    "        object = s3.Object(bucket, key)\n",
    "    except BaseException as err:\n",
    "        msg=f\"Error while configuring S3 connection: {err=}, {type(err)=}\"\n",
    "        track.upload_failed(msg)\n",
    "        raise\n",
    "\n",
    "    track.record_start_time()\n",
    "    try:\n",
    "        result = object.upload_fileobj(the_file,Callback=track.record_bytes)\n",
    "    except BaseException as err:\n",
    "        msg=f\"Error while uploading to S3: {err=}, {type(err)=}\"\n",
    "        track.upload_failed(msg)\n",
    "        raise\n",
    "    \n",
    "    track.record_end_time()\n",
    "    track.upload_succeeded()\n"
   ]
  },
  {
   "cell_type": "code",
   "execution_count": null,
   "id": "6125bc56",
   "metadata": {},
   "outputs": [],
   "source": [
    "link = 'https://api.mockaroo.com/api/511cd950?count=1000&key=a8034b60'\n",
    "try:\n",
    "    f = urllib.request.urlopen(link)\n",
    "except BaseException as err:\n",
    "    print(f\"Error while opening url: {err=}, {type(err)=}\")\n",
    "    raise \n",
    "    \n",
    "track = tracking()  \n",
    "\n",
    "try:\n",
    "    send_file_to_s3(f,'walstad-astronomer', 'filename.csv',track)\n",
    "except BaseException as err:\n",
    "    print(\"Caught error\")\n",
    "    \n",
    "print(track.the_byte_count)\n",
    "if(track.success):\n",
    "    print(\"Duration of upload {}\".format(track.upload_duration))\n",
    "print(\"Successful upload: {}\".format(track.success))\n",
    "if(not track.success):\n",
    "    print(track.error_message)"
   ]
  },
  {
   "cell_type": "code",
   "execution_count": null,
   "id": "c2f16a96",
   "metadata": {},
   "outputs": [],
   "source": [
    "def bytessTransferred(nbytes):\n",
    "    print(nbytes)\n",
    "    total_bytes_transferred=nrec"
   ]
  },
  {
   "cell_type": "code",
   "execution_count": null,
   "id": "b2045d9c",
   "metadata": {},
   "outputs": [],
   "source": [
    "track = tracking()\n",
    "link = 'https://api.mockaroo.com/api/511cd950?count=1000&key=a8034b60'\n",
    "try:\n",
    "    f = urllib.request.urlopen(link)\n",
    "except BaseException as err:\n",
    "    print(f\"Error while opening url: {err=}, {type(err)=}\")\n",
    "    raise   \n",
    "\n",
    "try:\n",
    "    session = boto3.Session(profile_name='default')\n",
    "    s3 = session.resource('s3')\n",
    "    object = s3.Object('walstad-astronomer', 'filename.csv')\n",
    "except BaseException as err:\n",
    "    print(f\"Error while configuring S3 connection: {err=}, {type(err)=}\")\n",
    "    raise\n",
    "\n",
    "track.start_time()\n",
    "try:\n",
    "    result = object.upload_fileobj(f,Callback=track.record_bytes)\n",
    "except BaseException as err:\n",
    "    print(f\"Error while uploading to S3: {err=}, {type(err)=}\")\n",
    "    raise\n"
   ]
  },
  {
   "cell_type": "code",
   "execution_count": null,
   "id": "6f75d6f1",
   "metadata": {},
   "outputs": [],
   "source": [
    "print(track.the_byte_count)"
   ]
  },
  {
   "cell_type": "code",
   "execution_count": null,
   "id": "c0c8d578",
   "metadata": {},
   "outputs": [],
   "source": [
    "result"
   ]
  },
  {
   "cell_type": "code",
   "execution_count": null,
   "id": "f014f9f2",
   "metadata": {},
   "outputs": [],
   "source": [
    "s3"
   ]
  },
  {
   "cell_type": "code",
   "execution_count": null,
   "id": "3152167f",
   "metadata": {},
   "outputs": [],
   "source": []
  }
 ],
 "metadata": {
  "kernelspec": {
   "display_name": "Python 3 (ipykernel)",
   "language": "python",
   "name": "python3"
  },
  "language_info": {
   "codemirror_mode": {
    "name": "ipython",
    "version": 3
   },
   "file_extension": ".py",
   "mimetype": "text/x-python",
   "name": "python",
   "nbconvert_exporter": "python",
   "pygments_lexer": "ipython3",
   "version": "3.9.7"
  }
 },
 "nbformat": 4,
 "nbformat_minor": 5
}
