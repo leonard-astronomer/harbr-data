{
 "cells": [
  {
   "cell_type": "code",
   "execution_count": 10,
   "id": "6e60a408",
   "metadata": {},
   "outputs": [
    {
     "name": "stdout",
     "output_type": "stream",
     "text": [
      "12345678901234567890\n",
      "100000.1287\n"
     ]
    }
   ],
   "source": [
    "r=100/777+100000\n",
    "print(\"12345678901234567890\")\n",
    "print(\"{z:7.4f}\".format(z=r))"
   ]
  },
  {
   "cell_type": "code",
   "execution_count": null,
   "id": "7085e1b4",
   "metadata": {},
   "outputs": [],
   "source": []
  },
  {
   "cell_type": "code",
   "execution_count": null,
   "id": "934ba8ae",
   "metadata": {},
   "outputs": [],
   "source": []
  }
 ],
 "metadata": {
  "kernelspec": {
   "display_name": "Python 3 (ipykernel)",
   "language": "python",
   "name": "python3"
  },
  "language_info": {
   "codemirror_mode": {
    "name": "ipython",
    "version": 3
   },
   "file_extension": ".py",
   "mimetype": "text/x-python",
   "name": "python",
   "nbconvert_exporter": "python",
   "pygments_lexer": "ipython3",
   "version": "3.9.7"
  }
 },
 "nbformat": 4,
 "nbformat_minor": 5
}
