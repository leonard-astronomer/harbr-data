{
 "cells": [
  {
   "cell_type": "code",
   "execution_count": 16,
   "id": "6efa1753",
   "metadata": {},
   "outputs": [],
   "source": [
    "import boto3\n",
    "\n",
    "\n",
    "\n"
   ]
  },
  {
   "cell_type": "code",
   "execution_count": 17,
   "id": "486cf77b",
   "metadata": {},
   "outputs": [],
   "source": [
    "bucket=\"walstad-astronomer\"\n",
    "endpoint=\"Wh8CGNSjQeWBbC0Q1j8XEA\""
   ]
  },
  {
   "cell_type": "code",
   "execution_count": 18,
   "id": "49e66ba9",
   "metadata": {},
   "outputs": [],
   "source": [
    "def examine_harbr_endpoint(bucket, key, track):\n",
    "    try:\n",
    "        session = boto3.Session(profile_name='default')\n",
    "        s3 = session.resource('s3')\n",
    "        object = s3.Object(bucket, key)\n",
    "    except BaseException as err:\n",
    "        msg=f\"Error while configuring S3 connection: {err=}, {type(err)=}\"\n",
    "        track.upload_failed(message=msg)\n",
    "        raise\n",
    "\n",
    "    track.record_start_time()\n",
    "    try:\n",
    "        singleload = s3.list_objects(Bucket=bucket, Prefix=key+\"/\"+\"singleload/\")\n",
    "    except BaseException as err:\n",
    "        msg=f\"Error while acquiring a listing of the singleload folder: {err=}, {type(err)=}\"\n",
    "        track.upload_failed(message=msg)\n",
    "        raise\n",
    "    "
   ]
  },
  {
   "cell_type": "code",
   "execution_count": 19,
   "id": "fccd36f0",
   "metadata": {},
   "outputs": [
    {
     "data": {
      "text/plain": [
       "{'name': ['name1', 'dict'], 'value': [42, {'a': 42, 'b': 42.0}]}"
      ]
     },
     "execution_count": 19,
     "metadata": {},
     "output_type": "execute_result"
    }
   ],
   "source": [
    "name='name1'\n",
    "value=42\n",
    "params={\"name\":[],\"value\":[]}\n",
    "params['name'].append(name)\n",
    "params['value'].append(value)\n",
    "\n",
    "params['name'].append('dict')\n",
    "params['value'].append({\"a\":42,\"b\":42.0})\n",
    "\n",
    "params"
   ]
  },
  {
   "cell_type": "code",
   "execution_count": 20,
   "id": "905f42fd",
   "metadata": {},
   "outputs": [
    {
     "name": "stdout",
     "output_type": "stream",
     "text": [
      "Tracking: Name:       test\n",
      "          Success:    True\n",
      "          Parameters: Name \tValue\n",
      "                      a\t\t42.0\n",
      "          Start:      2021-12-09 09:37:32.986798\n",
      "          End:        2021-12-09 09:37:32.987069\n",
      "          Duration:   0:00:00.000271\n",
      "\n",
      "----------\n",
      "Tracking: Name:       failure test\n",
      "          Success:    False\n",
      "          Message:    This is a test of failure.\n",
      "          Parameters: Name \tValue\n",
      "                      a\t\t42\n",
      "                      l\t\t['a', 'b', 'c']\n",
      "          Start:      2021-12-09 09:37:32.986920\n",
      "          End:        2021-12-09 09:37:32.987026\n",
      "          Duration:   0:00:00.000106\n",
      "\n"
     ]
    }
   ],
   "source": [
    "import datetime\n",
    "\n",
    "class tracking:\n",
    "    def __init__(self, name):\n",
    "        self.name=name\n",
    "        self.parameters={'name':[],'value':[]}\n",
    "        self.end_time = 0\n",
    "        self.duration = 'Not set'\n",
    "        self.success=False\n",
    "        self.error_message=\"Not set\"\n",
    "        self.start_time = datetime.datetime.now()\n",
    "\n",
    "        \n",
    "    def record_parameter(self,name, value):\n",
    "        self.parameters['name'].append(name)\n",
    "        self.parameters['value'].append(value)\n",
    "        \n",
    "    def record_end_time(self):\n",
    "        self.end_time = datetime.datetime.now()\n",
    "        self.duration = self.end_time - self.start_time \n",
    "     \n",
    "    def failed(self, message=\"\"):\n",
    "        self.end_time = datetime.datetime.now()\n",
    "        self.duration = self.end_time - self.start_time \n",
    "        if(message!=\"\"):\n",
    "            self.error_message=message\n",
    "        self.success=False\n",
    "        \n",
    "    def succeeded(self):\n",
    "        self.end_time = datetime.datetime.now()\n",
    "        self.duration = self.end_time - self.start_time \n",
    "        self.success=True\n",
    "        \n",
    "    def set_error_message(self, msg):\n",
    "        self.error_message=msg\n",
    "    \n",
    "    def get_summary(self):\n",
    "        summary = \"Tracking: Name:       {}\\n\".format(self.name)\n",
    "        summary+= \"          Success:    {}\\n\".format(self.success)\n",
    "        if(not self.success):\n",
    "            summary+= \"          Message:    {}\\n\".format(self.error_message)\n",
    "        n=len(self.parameters['name'])\n",
    "        if( n > 0 ):\n",
    "            summary+= \"          Parameters: Name \\tValue\\n\"\n",
    "            for i in range(0,n):\n",
    "                summary+= \"                      {}\\t\\t{}\\n\".format(self.parameters['name'][i],self.parameters['value'][i])\n",
    "        \n",
    "        summary+= \"          Start:      {}\\n\".format(self.start_time) \n",
    "        summary+= \"          End:        {}\\n\".format(self.end_time) \n",
    "        summary+= \"          Duration:   {}\\n\".format(self.duration)\n",
    "        \n",
    "        return summary\n",
    "\n",
    "        \n",
    "track=tracking('test')\n",
    "track2=tracking('failure test')\n",
    "track.record_parameter('a',42.)\n",
    "track2.record_parameter('a',42)\n",
    "track2.record_parameter('l',['a','b','c'])\n",
    "track2.failed(\"This is a test of failure.\")\n",
    "track.succeeded()\n",
    "print(track.get_summary())\n",
    "print(\"----------\")\n",
    "print(track2.get_summary())\n",
    "\n"
   ]
  },
  {
   "cell_type": "code",
   "execution_count": 21,
   "id": "93899891",
   "metadata": {},
   "outputs": [],
   "source": [
    "session = boto3.Session(profile_name='default')\n",
    "s3 = session.client('s3')\n",
    "folder=\"singleload\"\n"
   ]
  },
  {
   "cell_type": "code",
   "execution_count": 22,
   "id": "ec335684",
   "metadata": {},
   "outputs": [],
   "source": [
    "import boto3\n",
    "\n",
    "def check_harbr_endpoint_folder(s3,bucket,endpoint,folder,track):\n",
    "    folder=endpoint+\"/\"+folder+\"/\"\n",
    "    return list_key_prefix(s3, bucket, folder, track)\n",
    "\n",
    "def list_key_prefix(s3,bucket,key,track):\n",
    "    try:\n",
    "        key_prefix_list = s3.list_objects_v2(Bucket=bucket, Prefix=key, MaxKeys=10)['Contents']\n",
    "    except BaseException as err:\n",
    "        msg=f\"Unknown error: {err=}, {type(err)=}\"\n",
    "        track.failed(msg)\n",
    "        key_prefix_list=None\n",
    "    else:\n",
    "        track.succeeded()\n",
    "    \n",
    "    return key_prefix_list\n",
    "\n",
    "\n",
    "session = boto3.Session(profile_name='default')\n",
    "s3 = session.client('s3')\n",
    "bucket=\"walstad-astronomer\"\n",
    "endpoint=\"Wh8CGNSjQeWBbC0Q1j8XEA\"\n",
    "folder=\"singleload\"\n",
    "\n",
    "\n"
   ]
  },
  {
   "cell_type": "code",
   "execution_count": 23,
   "id": "38df49e9",
   "metadata": {},
   "outputs": [
    {
     "name": "stdout",
     "output_type": "stream",
     "text": [
      "Tracking: Name:       Check for singleload folder.\n",
      "          Success:    True\n",
      "          Start:      2021-12-09 09:37:37.088182\n",
      "          End:        2021-12-09 09:37:37.414813\n",
      "          Duration:   0:00:00.326631\n",
      "\n"
     ]
    }
   ],
   "source": [
    "track=tracking(\"Check for singleload folder.\")\n",
    "contents=check_harbr_endpoint_folder(s3,bucket,endpoint,folder,track)\n",
    "if(not track.success):\n",
    "    print(\"Failed: \\n{}\")\n",
    "print(\"{}\".format(track.get_summary()))"
   ]
  },
  {
   "cell_type": "code",
   "execution_count": 24,
   "id": "a02806e1",
   "metadata": {},
   "outputs": [
    {
     "name": "stdout",
     "output_type": "stream",
     "text": [
      "[{'Key': 'Wh8CGNSjQeWBbC0Q1j8XEA/singleload/', 'LastModified': datetime.datetime(2021, 11, 12, 20, 12, 17, tzinfo=tzutc()), 'ETag': '\"d41d8cd98f00b204e9800998ecf8427e\"', 'Size': 0, 'StorageClass': 'STANDARD'}]\n",
      "1\n"
     ]
    }
   ],
   "source": [
    "print(contents)\n",
    "print(len(contents))"
   ]
  },
  {
   "cell_type": "code",
   "execution_count": 26,
   "id": "f51dfe71",
   "metadata": {},
   "outputs": [
    {
     "name": "stdout",
     "output_type": "stream",
     "text": [
      "{'Key': 'Wh8CGNSjQeWBbC0Q1j8XEA/singleload/', 'LastModified': datetime.datetime(2021, 11, 12, 20, 12, 17, tzinfo=tzutc()), 'ETag': '\"d41d8cd98f00b204e9800998ecf8427e\"', 'Size': 0, 'StorageClass': 'STANDARD'}\n"
     ]
    }
   ],
   "source": [
    "len(contents)\n",
    "for  key in contents:\n",
    "    print(key)"
   ]
  },
  {
   "cell_type": "code",
   "execution_count": 25,
   "id": "ca3e3ee4",
   "metadata": {},
   "outputs": [
    {
     "ename": "TypeError",
     "evalue": "__init__() missing 1 required positional argument: 'name'",
     "output_type": "error",
     "traceback": [
      "\u001b[0;31m---------------------------------------------------------------------------\u001b[0m",
      "\u001b[0;31mTypeError\u001b[0m                                 Traceback (most recent call last)",
      "\u001b[0;32m/var/folders/fc/9dkh4qg15f3f0t4pg63gsml40000gn/T/ipykernel_79118/445294369.py\u001b[0m in \u001b[0;36m<module>\u001b[0;34m\u001b[0m\n\u001b[0;32m----> 1\u001b[0;31m \u001b[0mtrack_setup\u001b[0m\u001b[0;34m=\u001b[0m\u001b[0mtracking\u001b[0m\u001b[0;34m(\u001b[0m\u001b[0;34m)\u001b[0m\u001b[0;34m\u001b[0m\u001b[0;34m\u001b[0m\u001b[0m\n\u001b[0m\u001b[1;32m      2\u001b[0m \u001b[0;32mtry\u001b[0m\u001b[0;34m:\u001b[0m\u001b[0;34m\u001b[0m\u001b[0;34m\u001b[0m\u001b[0m\n\u001b[1;32m      3\u001b[0m     \u001b[0msession\u001b[0m \u001b[0;34m=\u001b[0m \u001b[0mboto3\u001b[0m\u001b[0;34m.\u001b[0m\u001b[0mSession\u001b[0m\u001b[0;34m(\u001b[0m\u001b[0mprofile_name\u001b[0m\u001b[0;34m=\u001b[0m\u001b[0;34m'default'\u001b[0m\u001b[0;34m)\u001b[0m\u001b[0;34m\u001b[0m\u001b[0;34m\u001b[0m\u001b[0m\n\u001b[1;32m      4\u001b[0m     \u001b[0ms3\u001b[0m \u001b[0;34m=\u001b[0m \u001b[0msession\u001b[0m\u001b[0;34m.\u001b[0m\u001b[0mclient\u001b[0m\u001b[0;34m(\u001b[0m\u001b[0;34m's3'\u001b[0m\u001b[0;34m)\u001b[0m\u001b[0;34m\u001b[0m\u001b[0;34m\u001b[0m\u001b[0m\n\u001b[1;32m      5\u001b[0m \u001b[0;32mexcept\u001b[0m \u001b[0mBaseException\u001b[0m \u001b[0;32mas\u001b[0m \u001b[0merr\u001b[0m\u001b[0;34m:\u001b[0m\u001b[0;34m\u001b[0m\u001b[0;34m\u001b[0m\u001b[0m\n",
      "\u001b[0;31mTypeError\u001b[0m: __init__() missing 1 required positional argument: 'name'"
     ]
    }
   ],
   "source": [
    "track_setup=tracking()\n",
    "try:\n",
    "    session = boto3.Session(profile_name='default')\n",
    "    s3 = session.client('s3')\n",
    "except BaseException as err:\n",
    "    msg=f\"Error while configuring S3 connection: {err=}, {type(err)=}\"\n",
    "    track_setup.failed(message=msg)\n",
    "    raise \n",
    "else:\n",
    "    track_setup.succeeded()\n",
    "#\n",
    "# first, for the singleload folder and record if it has any content\n",
    "#\n",
    "folder=\"singleload\"\n",
    "check_harbr_endpoint_folder(s3,bucket,endpoint,folder,track)\n",
    "\n"
   ]
  },
  {
   "cell_type": "code",
   "execution_count": null,
   "id": "333d0f4c",
   "metadata": {},
   "outputs": [],
   "source": [
    "singleload"
   ]
  },
  {
   "cell_type": "code",
   "execution_count": 14,
   "id": "a40c42d5",
   "metadata": {},
   "outputs": [
    {
     "ename": "NameError",
     "evalue": "name 'singleload' is not defined",
     "output_type": "error",
     "traceback": [
      "\u001b[0;31m---------------------------------------------------------------------------\u001b[0m",
      "\u001b[0;31mNameError\u001b[0m                                 Traceback (most recent call last)",
      "\u001b[0;32m/var/folders/fc/9dkh4qg15f3f0t4pg63gsml40000gn/T/ipykernel_79118/831297638.py\u001b[0m in \u001b[0;36m<module>\u001b[0;34m\u001b[0m\n\u001b[0;32m----> 1\u001b[0;31m \u001b[0mobject_list\u001b[0m\u001b[0;34m=\u001b[0m\u001b[0msingleload\u001b[0m\u001b[0;34m[\u001b[0m\u001b[0;34m'Contents'\u001b[0m\u001b[0;34m]\u001b[0m\u001b[0;34m\u001b[0m\u001b[0;34m\u001b[0m\u001b[0m\n\u001b[0m\u001b[1;32m      2\u001b[0m \u001b[0mobject_list\u001b[0m\u001b[0;34m\u001b[0m\u001b[0;34m\u001b[0m\u001b[0m\n",
      "\u001b[0;31mNameError\u001b[0m: name 'singleload' is not defined"
     ]
    }
   ],
   "source": [
    "object_list=singleload['Contents']\n",
    "object_list"
   ]
  },
  {
   "cell_type": "code",
   "execution_count": 13,
   "id": "bbdca66c",
   "metadata": {},
   "outputs": [
    {
     "ename": "NameError",
     "evalue": "name 'object_list' is not defined",
     "output_type": "error",
     "traceback": [
      "\u001b[0;31m---------------------------------------------------------------------------\u001b[0m",
      "\u001b[0;31mNameError\u001b[0m                                 Traceback (most recent call last)",
      "\u001b[0;32m/var/folders/fc/9dkh4qg15f3f0t4pg63gsml40000gn/T/ipykernel_79118/2844787172.py\u001b[0m in \u001b[0;36m<module>\u001b[0;34m\u001b[0m\n\u001b[0;32m----> 1\u001b[0;31m \u001b[0mlen\u001b[0m\u001b[0;34m(\u001b[0m\u001b[0mobject_list\u001b[0m\u001b[0;34m)\u001b[0m\u001b[0;34m\u001b[0m\u001b[0;34m\u001b[0m\u001b[0m\n\u001b[0m",
      "\u001b[0;31mNameError\u001b[0m: name 'object_list' is not defined"
     ]
    }
   ],
   "source": [
    "len(object_list)"
   ]
  },
  {
   "cell_type": "code",
   "execution_count": null,
   "id": "8fdfee85",
   "metadata": {},
   "outputs": [],
   "source": []
  }
 ],
 "metadata": {
  "kernelspec": {
   "display_name": "Python 3 (ipykernel)",
   "language": "python",
   "name": "python3"
  },
  "language_info": {
   "codemirror_mode": {
    "name": "ipython",
    "version": 3
   },
   "file_extension": ".py",
   "mimetype": "text/x-python",
   "name": "python",
   "nbconvert_exporter": "python",
   "pygments_lexer": "ipython3",
   "version": "3.9.7"
  }
 },
 "nbformat": 4,
 "nbformat_minor": 5
}
