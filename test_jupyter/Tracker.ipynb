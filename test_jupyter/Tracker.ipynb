{
 "cells": [
  {
   "cell_type": "markdown",
   "id": "8de4c69d",
   "metadata": {},
   "source": [
    "# Tracker"
   ]
  },
  {
   "cell_type": "code",
   "execution_count": 5,
   "id": "d9c6949d",
   "metadata": {},
   "outputs": [],
   "source": [
    "import datetime\n",
    "\n",
    "class tracking:\n",
    "    def __init__(self):\n",
    "        self.the_byte_count = 0\n",
    "        self.start_time = 0\n",
    "        self.end_time = 0\n",
    "        self.upload_duration = 'Not set'\n",
    "        self.success=False\n",
    "        self.error_message=\"Not set\"\n",
    "        \n",
    "    def record_bytes(self,byte_count):\n",
    "        self.the_byte_count = byte_count\n",
    "        \n",
    "    def record_start_time(self):\n",
    "        self.start_time = datetime.datetime.now()\n",
    "        \n",
    "    def record_end_time(self):\n",
    "        self.end_time = datetime.datetime.now()\n",
    "        self.upload_duration = self.end_time - self.start_time \n",
    "        \n",
    "    def upload_failed(self, message=\"\"):\n",
    "        if(message!=\"\"):\n",
    "            self.error_message=message\n",
    "        self.success=False\n",
    "    def upload_succeeded(self):\n",
    "        self.success=True\n",
    "    def set_error_message(self, msg):\n",
    "        self.error_message=msg\n"
   ]
  },
  {
   "cell_type": "code",
   "execution_count": null,
   "id": "642fb2e9",
   "metadata": {},
   "outputs": [],
   "source": []
  }
 ],
 "metadata": {
  "kernelspec": {
   "display_name": "Python 3 (ipykernel)",
   "language": "python",
   "name": "python3"
  },
  "language_info": {
   "codemirror_mode": {
    "name": "ipython",
    "version": 3
   },
   "file_extension": ".py",
   "mimetype": "text/x-python",
   "name": "python",
   "nbconvert_exporter": "python",
   "pygments_lexer": "ipython3",
   "version": "3.9.7"
  }
 },
 "nbformat": 4,
 "nbformat_minor": 5
}
