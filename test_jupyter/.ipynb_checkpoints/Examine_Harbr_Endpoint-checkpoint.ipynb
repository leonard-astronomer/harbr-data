{
 "cells": [
  {
   "cell_type": "code",
   "execution_count": null,
   "id": "6e7d47fe",
   "metadata": {},
   "outputs": [],
   "source": [
    "import boto3\n",
    "import nbimporter\n",
    "import Tracker\n",
    "\n",
    "bucket=\"walstad-astronomer\"\n",
    "endpoint=\"Wh8CGNSjQeWBbC0Q1j8XEA\"\n",
    "\n"
   ]
  },
  {
   "cell_type": "code",
   "execution_count": null,
   "id": "000018c3",
   "metadata": {},
   "outputs": [],
   "source": [
    "def examine_harbr_endpoint(bucket, key, track):\n",
    "      \n",
    "    try:\n",
    "        session = boto3.Session(profile_name='default')\n",
    "        s3 = session.resource('s3')\n",
    "        object = s3.Object(bucket, key)\n",
    "    except BaseException as err:\n",
    "        msg=f\"Error while configuring S3 connection: {err=}, {type(err)=}\"\n",
    "        track.upload_failed(message=msg)\n",
    "        raise\n",
    "\n",
    "    track.record_start_time()\n",
    "    try:\n",
    "        singleload = s3.list_objects(Bucket=bucket, Prefix=key+\"/\"+\"singleload/\")\n",
    "    except BaseException as err:\n",
    "        msg=f\"Error while acquiring a listing of the singleload folder: {err=}, {type(err)=}\"\n",
    "        track.upload_failed(message=msg)\n",
    "        raise\n",
    "    "
   ]
  },
  {
   "cell_type": "code",
   "execution_count": null,
   "id": "0944b59a",
   "metadata": {},
   "outputs": [],
   "source": [
    "bucket='walstad-astronomer'\n",
    "key=endpoint\n",
    "track=tracking()\n",
    "\n",
    "try:\n",
    "    session = boto3.Session(profile_name='default')\n",
    "    s3 = session.resource('s3')\n",
    "    object = s3.Object(bucket, key)\n",
    "except BaseException as err:\n",
    "    msg=f\"Error while configuring S3 connection: {err=}, {type(err)=}\"\n",
    "    track.upload_failed(message=msg)\n",
    "    raise\n",
    "\n",
    "track.record_start_time()\n",
    "try:\n",
    "    singleload = s3.list_objects(Bucket=bucket, Prefix=key+\"/\"+\"singleload/\")\n",
    "except BaseException as err:\n",
    "    msg=f\"Error while acquiring a listing of the singleload folder: {err=}, {type(err)=}\"\n",
    "    track.upload_failed(message=msg)\n",
    "    raise\n",
    "    "
   ]
  },
  {
   "cell_type": "code",
   "execution_count": null,
   "id": "a67aa647",
   "metadata": {},
   "outputs": [],
   "source": []
  }
 ],
 "metadata": {
  "kernelspec": {
   "display_name": "Python 3 (ipykernel)",
   "language": "python",
   "name": "python3"
  },
  "language_info": {
   "codemirror_mode": {
    "name": "ipython",
    "version": 3
   },
   "file_extension": ".py",
   "mimetype": "text/x-python",
   "name": "python",
   "nbconvert_exporter": "python",
   "pygments_lexer": "ipython3",
   "version": "3.9.7"
  }
 },
 "nbformat": 4,
 "nbformat_minor": 5
}
